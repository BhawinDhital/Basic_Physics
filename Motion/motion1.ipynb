{
 "cells": [
  {
   "cell_type": "markdown",
   "metadata": {},
   "source": [
    "### Problem 1 : The position of an object moving in a straight line"
   ]
  },
  {
   "cell_type": "markdown",
   "metadata": {},
   "source": [
    "The position of an object moving in a straight line is given by:\n",
    "\n",
    "$x = 3t - 4t^2 +t^3$, where t is in second and x in meters.\n",
    "\n",
    "a) What is the position of the object at t= 1,2,3 and 4 seconds?\n",
    "\n",
    "b) What is the object's displacement between t = 0 and t = 4 seconds?\n",
    "\n",
    "c) What is the average velocity of the object between t =2 and t = 4s?"
   ]
  },
  {
   "cell_type": "code",
   "execution_count": 7,
   "metadata": {},
   "outputs": [],
   "source": [
    "import numpy as np\n",
    "import matplotlib.pyplot as plt\n",
    "%matplotlib inline\n",
    "#define a function that takes an argument t\n",
    "def position(t):\n",
    "    return 3*t - 4* np.power(t,2) + np.power(t,3)\n",
    "\n",
    "def exact_derivative(t):\n",
    "    return 3 - 8*t + 3*np.power(t,2)\n",
    "\n",
    "def derivative(t):\n",
    "    epsilon = 1e-8\n",
    "    return((position(t+epsilon) - position(t - epsilon))/(2*epsilon))"
   ]
  },
  {
   "cell_type": "code",
   "execution_count": 8,
   "metadata": {},
   "outputs": [
    {
     "name": "stdout",
     "output_type": "stream",
     "text": [
      "Position = 0\n",
      "Position = -2\n",
      "Position = 0\n",
      "Position = 12\n"
     ]
    }
   ],
   "source": [
    "#To answer a)\n",
    "print('Position =', position(1))\n",
    "print('Position =', position(2))\n",
    "print('Position =', position(3))\n",
    "print('Position =', position(4))"
   ]
  },
  {
   "cell_type": "code",
   "execution_count": 9,
   "metadata": {},
   "outputs": [
    {
     "name": "stdout",
     "output_type": "stream",
     "text": [
      "Displacement = 12\n"
     ]
    }
   ],
   "source": [
    "# To answer b)\n",
    "print('Displacement =',position(4) - position(0))"
   ]
  },
  {
   "cell_type": "code",
   "execution_count": 14,
   "metadata": {},
   "outputs": [
    {
     "data": {
      "text/plain": [
       "[<matplotlib.lines.Line2D at 0x7fc2689b0520>]"
      ]
     },
     "execution_count": 14,
     "metadata": {},
     "output_type": "execute_result"
    },
    {
     "data": {
      "image/png": "[encoded data removed]",
      "text/plain": [
       "<Figure size 432x288 with 1 Axes>"
      ]
     },
     "metadata": {
      "needs_background": "light"
     },
     "output_type": "display_data"
    }
   ],
   "source": [
    "t = np.linspace(0,5)\n",
    "v_exact = exact_derivative(t)\n",
    "v = derivative(t)\n",
    "plt.plot(t,v_exact,'k')# This plots the black line\n",
    "plt.plot(t,v,'b.')"
   ]
  },
  {
   "cell_type": "markdown",
   "metadata": {},
   "source": [
    "### Average velocity"
   ]
  },
  {
   "cell_type": "markdown",
   "metadata": {},
   "source": [
    "Numpy has a built-in function called trapz which estimates an integral via the trapezoidal rule"
   ]
  },
  {
   "cell_type": "code",
   "execution_count": 21,
   "metadata": {},
   "outputs": [
    {
     "name": "stdout",
     "output_type": "stream",
     "text": [
      "Average velocity= 7.0008329741065625\n"
     ]
    }
   ],
   "source": [
    "# part c)\n",
    "t_int = np.linspace(2,4)\n",
    "v_int = derivative(t_int)\n",
    "print('Average velocity=', np.trapz(v_int,t_int)/2.0)"
   ]
  },
  {
   "cell_type": "code",
   "execution_count": null,
   "metadata": {},
   "outputs": [],
   "source": []
  }
 ],
 "metadata": {
  "kernelspec": {
   "display_name": "Python 3",
   "language": "python",
   "name": "python3"
  },
  "language_info": {
   "codemirror_mode": {
    "name": "ipython",
    "version": 3
   },
   "file_extension": ".py",
   "mimetype": "text/x-python",
   "name": "python",
   "nbconvert_exporter": "python",
   "pygments_lexer": "ipython3",
   "version": "3.8.3"
  }
 },
 "nbformat": 4,
 "nbformat_minor": 4
}
